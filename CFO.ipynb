{
 "cells": [
  {
   "cell_type": "code",
   "execution_count": 2,
   "metadata": {},
   "outputs": [],
   "source": [
    "from scipy import signal\n",
    "def calculateCFO(fileDir, sigReal, sigImag):\n",
    "    sampleRate = 112*(10**6)\n",
    "    shortestMsg = 8*(10**-6)\n",
    "    minSamples = int(sampleRate * shortestMsg)\n",
    "    print(minSamples)\n",
    "    print(fileDir)\n",
    "    \n",
    "    df = pd.read_excel(fileDir)\n",
    "    preamble = df.head(minSamples)\n",
    "    \n",
    "    complexNumbers = np.vectorize(complex)(preamble['real'], preamble['imaginary'])\n",
    "    \n",
    "    ampl = np.absolute(complexNumbers)\n",
    "    angle = np.angle(complexNumbers)\n",
    "    \n",
    "    I = np.dot(ampl, np.cos(angle))\n",
    "    Q = np.dot(ampl, np.sin(angle))\n",
    "    \n",
    "    Signal_I = np.dot(sigReal, I)\n",
    "    Signal_Q = np.dot(sigImag, Q)\n",
    "    \n",
    "    return Signal_I, Signal_Q\n",
    "    \n",
    "    \n",
    "\n",
    "    "
   ]
  },
  {
   "cell_type": "code",
   "execution_count": 3,
   "metadata": {},
   "outputs": [],
   "source": [
    "def callCalculate(directory):\n",
    "    \n",
    "    sampleRate = 112*(10**6)\n",
    "    shortestMsg = 8*(10**-6)\n",
    "    channelFreq = 28*(10**6)\n",
    "    minSamples = sampleRate * shortestMsg\n",
    "    dt = 1/sampleRate\n",
    "    \n",
    "    steps = []\n",
    "    i = 0\n",
    "    \n",
    "    while i <= shortestMsg:\n",
    "        steps.append(i)\n",
    "        i += dt\n",
    "    \n",
    "    sigReal = np.cos(2*math.pi*channelFreq*np.array(steps))\n",
    "    sigImag = np.sin(2*math.pi*channelFreq*np.array(steps))\n",
    "    \n",
    "    bursts = [f for f in listdir(directory) if isfile(join(directory, f))]\n",
    "    \n",
    "    for file in bursts:\n",
    "        fileDir = directory + slash + file\n",
    "        Signal_I, Signal_Q = calculateCFO(fileDir, sigReal, sigImag)\n",
    "        filterSignals(Signal_I, Signal_Q)\n",
    "        \n",
    "        \n",
    "        \n"
   ]
  },
  {
   "cell_type": "code",
   "execution_count": 4,
   "metadata": {},
   "outputs": [],
   "source": [
    "def filterSignals(Signal_I, Signal_Q):\n",
    "    \n",
    "    fCutoff = 20*(10**6)\n",
    "    sampleRate = 112*(10**6)\n",
    "    b, a = signal.butter(8, fCutoff/(sampleRate/2))\n",
    "    filterI = signal.lfilter(b,a,Signal_I) # Double check that this is not low pass filter. seems to be right...\n",
    "    filterQ = signal.lfilter(b,a,Signal_Q)\n",
    "    signalBaseband = np.vectorize(complex)(filterI, filterQ)\n",
    "    phaseReal = np.angle(signalBaseband)\n",
    "    unwrappedPhaseReal = np.unwrap(phaseReal)\n",
    "    average = []\n",
    "    \n",
    "    \n",
    "    # Find First 8 symbols\n",
    "    for x in range(1, 9):\n",
    "        pos = 0\n",
    "        difference = []\n",
    "        for i in range((x * 112), ((x-1)*112) + 1, -1):\n",
    "            difference.append(np.absolute(unwrappedPhaseReal[i] - unwrappedPhaseReal[i-1]))\n",
    "            pos += 1\n",
    "#         print(len(difference))\n",
    "        \n",
    "        average.append(np.mean(difference))\n",
    "    mySum = sum(average)\n",
    "    f_offset = mySum/(2*math.pi*x*(2*(10**-6)))\n",
    "    print(f_offset)"
   ]
  },
  {
   "cell_type": "code",
   "execution_count": 5,
   "metadata": {},
   "outputs": [
    {
     "name": "stdout",
     "output_type": "stream",
     "text": [
      "1.16.4\n",
      "0.11.2\n",
      "0.24.2\n"
     ]
    }
   ],
   "source": [
    "# This program is meant to help generate Carrier Frequency Offset data\n",
    "# from IQ data. I am basing this code on work done by Peter Ekpewoh in \n",
    "# Matlab.\n",
    "import os\n",
    "from os import listdir\n",
    "from os.path import isfile, join\n",
    "import pandas as pd\n",
    "import math\n",
    "import matplotlib.pyplot as plt\n",
    "import numpy as np\n",
    "import tsfresh as ts\n",
    "import pandas as pd\n",
    "\n",
    "\n",
    "if __name__ == '__main__':\n",
    "    path = \"smallBursts/Fever Sense 1\"\n",
    "    slash = \"/\"\n",
    "    print(np.__version__)\n",
    "    print(ts.__version__)\n",
    "    print(pd.__version__)\n",
    "    \n",
    "      "
   ]
  },
  {
   "cell_type": "code",
   "execution_count": null,
   "metadata": {},
   "outputs": [],
   "source": []
  },
  {
   "cell_type": "code",
   "execution_count": null,
   "metadata": {},
   "outputs": [],
   "source": []
  },
  {
   "cell_type": "code",
   "execution_count": null,
   "metadata": {},
   "outputs": [],
   "source": []
  }
 ],
 "metadata": {
  "kernelspec": {
   "display_name": "Python 3",
   "language": "python",
   "name": "python3"
  },
  "language_info": {
   "codemirror_mode": {
    "name": "ipython",
    "version": 3
   },
   "file_extension": ".py",
   "mimetype": "text/x-python",
   "name": "python",
   "nbconvert_exporter": "python",
   "pygments_lexer": "ipython3",
   "version": "3.7.3"
  }
 },
 "nbformat": 4,
 "nbformat_minor": 2
}
